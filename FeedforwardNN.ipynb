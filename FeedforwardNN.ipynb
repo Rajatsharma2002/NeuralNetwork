{
  "nbformat": 4,
  "nbformat_minor": 0,
  "metadata": {
    "colab": {
      "name": "FeedforwardNN.ipynb",
      "provenance": [],
      "authorship_tag": "ABX9TyN9NCeFcNNcaTY/kd0W8BIK"
    },
    "kernelspec": {
      "name": "python3",
      "display_name": "Python 3"
    },
    "language_info": {
      "name": "python"
    }
  },
  "cells": [
    {
      "cell_type": "code",
      "execution_count": 59,
      "metadata": {
        "id": "nufCtpChpa98"
      },
      "outputs": [],
      "source": [
        "#Importing Libraries\n",
        "import torch\n",
        "import torch.nn as nn\n",
        "import torchvision\n",
        "import torchvision.transforms as transforms\n",
        "import matplotlib.pyplot as plt"
      ]
    },
    {
      "cell_type": "code",
      "source": [
        "#initializing parameters \n",
        "input_size=784\n",
        "hidden_size=100\n",
        "num_classes=10\n",
        "num_epochs=5\n",
        "batch_size=100\n",
        "learning_rate=0.001"
      ],
      "metadata": {
        "id": "jEyim_jvr9Zi"
      },
      "execution_count": 60,
      "outputs": []
    },
    {
      "cell_type": "code",
      "source": [
        "# downloading dataset\n",
        "train_dataset=torchvision.datasets.MNIST(root='./data',train=True,transform=transforms.ToTensor(),download=True)\n",
        "\n",
        "test_dataset=torchvision.datasets.MNIST(root='./data',train=False,transform=transforms.ToTensor())"
      ],
      "metadata": {
        "id": "QGinArUOskI4"
      },
      "execution_count": 61,
      "outputs": []
    },
    {
      "cell_type": "code",
      "source": [
        "# Loading the dataset\n",
        "train_loader=torch.utils.data.DataLoader(dataset=train_dataset,batch_size=batch_size,shuffle=True)\n",
        "\n",
        "test_loader=torch.utils.data.DataLoader(dataset=train_dataset,batch_size=batch_size,shuffle=False)"
      ],
      "metadata": {
        "id": "UseCrbrlsdl0"
      },
      "execution_count": 62,
      "outputs": []
    },
    {
      "cell_type": "code",
      "source": [
        "# Building Feed forward Neural Network\n",
        "class feedforwardNN(nn.Module):\n",
        "  def __init__(self,input_size,hidden_size,num_classes):\n",
        "    super(feedforwardNN,self).__init__()\n",
        "    self.l1=nn.Linear(input_size,hidden_size)\n",
        "    self.relu=nn.ReLU()\n",
        "    self.l2=nn.Linear(hidden_size,num_classes)\n",
        "  \n",
        "  def forward(self,x):\n",
        "    out=self.l1(x)\n",
        "    out=self.relu(out)\n",
        "    out=self.l2(out)\n",
        "    return out\n",
        "\n"
      ],
      "metadata": {
        "id": "pAGxWWlDyGiO"
      },
      "execution_count": 63,
      "outputs": []
    },
    {
      "cell_type": "code",
      "source": [
        "# initiating the model\n",
        "model = feedforwardNN(input_size,hidden_size,num_classes)"
      ],
      "metadata": {
        "id": "BFGrSgy10suK"
      },
      "execution_count": 64,
      "outputs": []
    },
    {
      "cell_type": "code",
      "source": [
        "# enable GPU\n",
        "device=torch.device('Cuda' if torch.cuda.is_available() else 'cpu')"
      ],
      "metadata": {
        "id": "j9TTGwmn2DPY"
      },
      "execution_count": 65,
      "outputs": []
    },
    {
      "cell_type": "code",
      "source": [
        "# Loss function and optimizer\n",
        "criterion =nn.CrossEntropyLoss()\n",
        "\n",
        "optimizer = torch.optim.Adam(model.parameters(), lr=learning_rate) "
      ],
      "metadata": {
        "id": "CmIfAZn-2MSX"
      },
      "execution_count": 66,
      "outputs": []
    },
    {
      "cell_type": "code",
      "source": [
        "# training FNN Model\n",
        "n_total_steps = len(train_loader)\n",
        "for epoch in range(num_epochs):\n",
        "    for i, (images, labels) in enumerate(train_loader):  \n",
        "        \n",
        "        images = images.reshape(-1, 28*28).to(device)\n",
        "        labels = labels.to(device)\n",
        "        \n",
        "        # Forward pass\n",
        "        outputs = model(images)\n",
        "        loss = criterion(outputs, labels)\n",
        "        \n",
        "        # Backward and optimize\n",
        "        optimizer.zero_grad()\n",
        "        loss.backward()\n",
        "        optimizer.step()\n",
        "        \n",
        "        if (i+1) % 100 == 0:\n",
        "            print (f'Epoch [{epoch+1}/{num_epochs}], Step [{i+1}/{n_total_steps}], Loss: {loss.item():.4f}')"
      ],
      "metadata": {
        "colab": {
          "base_uri": "https://localhost:8080/"
        },
        "id": "qlvVqVWr2sHO",
        "outputId": "9422aa84-e403-450e-e583-564ce56874bd"
      },
      "execution_count": 67,
      "outputs": [
        {
          "output_type": "stream",
          "name": "stdout",
          "text": [
            "Epoch [1/5], Step [100/600], Loss: 0.4841\n",
            "Epoch [1/5], Step [200/600], Loss: 0.3879\n",
            "Epoch [1/5], Step [300/600], Loss: 0.3607\n",
            "Epoch [1/5], Step [400/600], Loss: 0.2994\n",
            "Epoch [1/5], Step [500/600], Loss: 0.2323\n",
            "Epoch [1/5], Step [600/600], Loss: 0.1752\n",
            "Epoch [2/5], Step [100/600], Loss: 0.1228\n",
            "Epoch [2/5], Step [200/600], Loss: 0.0650\n",
            "Epoch [2/5], Step [300/600], Loss: 0.0881\n",
            "Epoch [2/5], Step [400/600], Loss: 0.2458\n",
            "Epoch [2/5], Step [500/600], Loss: 0.1595\n",
            "Epoch [2/5], Step [600/600], Loss: 0.1640\n",
            "Epoch [3/5], Step [100/600], Loss: 0.1411\n",
            "Epoch [3/5], Step [200/600], Loss: 0.2092\n",
            "Epoch [3/5], Step [300/600], Loss: 0.1485\n",
            "Epoch [3/5], Step [400/600], Loss: 0.1202\n",
            "Epoch [3/5], Step [500/600], Loss: 0.0794\n",
            "Epoch [3/5], Step [600/600], Loss: 0.1581\n",
            "Epoch [4/5], Step [100/600], Loss: 0.1102\n",
            "Epoch [4/5], Step [200/600], Loss: 0.1561\n",
            "Epoch [4/5], Step [300/600], Loss: 0.2191\n",
            "Epoch [4/5], Step [400/600], Loss: 0.1521\n",
            "Epoch [4/5], Step [500/600], Loss: 0.1062\n",
            "Epoch [4/5], Step [600/600], Loss: 0.1790\n",
            "Epoch [5/5], Step [100/600], Loss: 0.1056\n",
            "Epoch [5/5], Step [200/600], Loss: 0.0483\n",
            "Epoch [5/5], Step [300/600], Loss: 0.0658\n",
            "Epoch [5/5], Step [400/600], Loss: 0.0884\n",
            "Epoch [5/5], Step [500/600], Loss: 0.0978\n",
            "Epoch [5/5], Step [600/600], Loss: 0.0651\n"
          ]
        }
      ]
    },
    {
      "cell_type": "code",
      "source": [
        "# Testing the model\n",
        "with torch.no_grad():\n",
        "    n_correct = 0\n",
        "    n_samples = 0\n",
        "    for images, labels in test_loader:\n",
        "        images = images.reshape(-1, 28*28).to(device)\n",
        "        labels = labels.to(device)\n",
        "        outputs = model(images)\n",
        "       \n",
        "        _, predicted = torch.max(outputs.data, 1)\n",
        "        n_samples += labels.size(0)\n",
        "        n_correct += (predicted == labels).sum().item()\n",
        "\n",
        "    acc = 100.0 * n_correct / n_samples\n",
        "    print(f'Accuracy : {acc} %')"
      ],
      "metadata": {
        "colab": {
          "base_uri": "https://localhost:8080/"
        },
        "id": "FofbZi9T234Q",
        "outputId": "3d84b310-bc90-4f06-ce22-a5595680d105"
      },
      "execution_count": 69,
      "outputs": [
        {
          "output_type": "stream",
          "name": "stdout",
          "text": [
            "Accuracy : 97.975 %\n"
          ]
        }
      ]
    }
  ]
}