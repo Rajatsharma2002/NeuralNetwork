{
  "nbformat": 4,
  "nbformat_minor": 0,
  "metadata": {
    "colab": {
      "name": "Pytorch-Basic.ipynb",
      "provenance": [],
      "collapsed_sections": [],
      "authorship_tag": "ABX9TyPfaza2QAUzcIGL0iHBZ1Qb",
      "include_colab_link": true
    },
    "kernelspec": {
      "name": "python3",
      "display_name": "Python 3"
    },
    "language_info": {
      "name": "python"
    }
  },
  "cells": [
    {
      "cell_type": "markdown",
      "metadata": {
        "id": "view-in-github",
        "colab_type": "text"
      },
      "source": [
        "<a href=\"https://colab.research.google.com/github/Rajatsharma2002/NeuralNetwork/blob/main/Pytorch_Basic.ipynb\" target=\"_parent\"><img src=\"https://colab.research.google.com/assets/colab-badge.svg\" alt=\"Open In Colab\"/></a>"
      ]
    },
    {
      "cell_type": "code",
      "execution_count": 1,
      "metadata": {
        "id": "F7hONV3XpsyM"
      },
      "outputs": [],
      "source": [
        "import torch"
      ]
    },
    {
      "cell_type": "code",
      "source": [
        "# creation of tensor\n",
        "a=torch.randn(3,3)\n",
        "a"
      ],
      "metadata": {
        "colab": {
          "base_uri": "https://localhost:8080/"
        },
        "id": "fmXR0ZIfp83_",
        "outputId": "9e666e52-6f99-4e1a-e801-38e0dcdcd093"
      },
      "execution_count": 29,
      "outputs": [
        {
          "output_type": "execute_result",
          "data": {
            "text/plain": [
              "tensor([[ 0.7662,  1.5147, -0.1911],\n",
              "        [ 0.9566,  0.6175,  1.0918],\n",
              "        [-0.1631, -0.9851, -1.2528]])"
            ]
          },
          "metadata": {},
          "execution_count": 29
        }
      ]
    },
    {
      "cell_type": "code",
      "source": [
        "# manupulation of tensor\n",
        "a[0][2]=5\n",
        "a"
      ],
      "metadata": {
        "colab": {
          "base_uri": "https://localhost:8080/"
        },
        "id": "ZSku_nLIxcAB",
        "outputId": "c5b93ce8-7f02-4a6c-de70-206c1ca4e378"
      },
      "execution_count": 30,
      "outputs": [
        {
          "output_type": "execute_result",
          "data": {
            "text/plain": [
              "tensor([[ 0.7662,  1.5147,  5.0000],\n",
              "        [ 0.9566,  0.6175,  1.0918],\n",
              "        [-0.1631, -0.9851, -1.2528]])"
            ]
          },
          "metadata": {},
          "execution_count": 30
        }
      ]
    },
    {
      "cell_type": "code",
      "source": [
        "# deletion of tensor\n",
        "del a"
      ],
      "metadata": {
        "id": "0QxIlvczyErb"
      },
      "execution_count": 31,
      "outputs": []
    },
    {
      "cell_type": "code",
      "source": [
        "M1=torch.tensor([[1,2,3],[6,8,4],[9,4,6]])\n",
        "print(f\"Matrix M1 :\\n{M1}\") "
      ],
      "metadata": {
        "colab": {
          "base_uri": "https://localhost:8080/"
        },
        "id": "oNrld6moqVXJ",
        "outputId": "4c367526-ddc6-4313-ba89-7d07d13a5775"
      },
      "execution_count": 58,
      "outputs": [
        {
          "output_type": "stream",
          "name": "stdout",
          "text": [
            "Matrix M1 :\n",
            "tensor([[1, 2, 3],\n",
            "        [6, 8, 4],\n",
            "        [9, 4, 6]])\n"
          ]
        }
      ]
    },
    {
      "cell_type": "code",
      "source": [
        "M2=torch.tensor([[6,4,1],[9,3,0],[7,2,8]])\n",
        "print(f\"Matrix M2 :\\n{M2}\") "
      ],
      "metadata": {
        "colab": {
          "base_uri": "https://localhost:8080/"
        },
        "id": "MRjMoY8vqxxp",
        "outputId": "7913e24c-ee9e-4d08-e156-d6fa6723592e"
      },
      "execution_count": 59,
      "outputs": [
        {
          "output_type": "stream",
          "name": "stdout",
          "text": [
            "Matrix M2 :\n",
            "tensor([[6, 4, 1],\n",
            "        [9, 3, 0],\n",
            "        [7, 2, 8]])\n"
          ]
        }
      ]
    },
    {
      "cell_type": "code",
      "source": [
        "# matrix addition\n",
        "result =torch.tensor([[0,0,0], [0,0,0], [0,0,0]])  \n",
        "for i in range(len(M1)):    \n",
        "  for j in range(len(M1[0])): \n",
        "    result[i][j] = M1[i][j] + M2[i][j] \n",
        "print(f\"Addition of Matrix M1 and M2 : \\n{result}\")"
      ],
      "metadata": {
        "colab": {
          "base_uri": "https://localhost:8080/"
        },
        "id": "OUcbipDuvua-",
        "outputId": "3df53330-c7eb-40a0-f21d-ab4e87fcbacc"
      },
      "execution_count": 57,
      "outputs": [
        {
          "output_type": "stream",
          "name": "stdout",
          "text": [
            "Addition of Matrix M1 and M2 : \n",
            "tensor([[ 7,  6,  4],\n",
            "        [15, 11,  4],\n",
            "        [16,  6, 14]])\n"
          ]
        }
      ]
    },
    {
      "cell_type": "code",
      "source": [
        "# matrix Subtraction\n",
        "result =torch.tensor([[0,0,0], [0,0,0], [0,0,0]])  \n",
        "for i in range(len(M1)):    \n",
        "  for j in range(len(M1[0])): \n",
        "    result[i][j] = M1[i][j] - M2[i][j] \n",
        "print(f\"Subtraction of Matrix M1 and M2 : \\n{result}\")"
      ],
      "metadata": {
        "colab": {
          "base_uri": "https://localhost:8080/"
        },
        "id": "Rd3VLnV72CR8",
        "outputId": "83b50a4e-89bc-46e1-d3bf-5cb0a8f5ee87"
      },
      "execution_count": 60,
      "outputs": [
        {
          "output_type": "stream",
          "name": "stdout",
          "text": [
            "Subtraction of Matrix M1 and M2 : \n",
            "tensor([[-5, -2,  2],\n",
            "        [-3,  5,  4],\n",
            "        [ 2,  2, -2]])\n"
          ]
        }
      ]
    },
    {
      "cell_type": "code",
      "source": [
        "# Matrix multiplication\n",
        "result =torch.tensor([[0,0,0], [0,0,0], [0,0,0]])  \n",
        "for i in range(len(M1)):    \n",
        "  for j in range(len(M1[0])): \n",
        "    result[i][j] = M1[i][j] * M2[i][j] \n",
        "print(f\"Multiplication of Matrix M1 and M2 : \\n{result}\")"
      ],
      "metadata": {
        "colab": {
          "base_uri": "https://localhost:8080/"
        },
        "id": "mmFOwBdNzaLe",
        "outputId": "6e261186-cf83-448e-dda4-f74b927dadbe"
      },
      "execution_count": 56,
      "outputs": [
        {
          "output_type": "stream",
          "name": "stdout",
          "text": [
            "Multiplication of Matrix M1 and M2 : \n",
            "tensor([[ 6,  8,  3],\n",
            "        [54, 24,  0],\n",
            "        [63,  8, 48]])\n"
          ]
        }
      ]
    },
    {
      "cell_type": "code",
      "source": [
        "# Matrix transpose\n",
        "result1=torch.tensor([[0,0,0],[0,0,0],[0,0,0]])\n",
        "for i in range(len(M1)):\n",
        "  for j in range(len(M1[0])):\n",
        "    result1[j][i]=M1[i][j]\n",
        "print(f\"Transpose of Matrix M1 : \\n{result1}\")\n",
        "\n",
        "result2=torch.tensor([[0,0,0],[0,0,0],[0,0,0]])\n",
        "for i in range(len(M2)):\n",
        "  for j in range(len(M2[0])):\n",
        "    result2[j][i]=M2[i][j]\n",
        "print(f\"\\nTranspose of Matrix M2 : \\n{result2}\")\n"
      ],
      "metadata": {
        "colab": {
          "base_uri": "https://localhost:8080/"
        },
        "id": "Bsi6JxK8zy14",
        "outputId": "fe7581b3-3040-41d4-c3de-2fbfe31cea22"
      },
      "execution_count": 63,
      "outputs": [
        {
          "output_type": "stream",
          "name": "stdout",
          "text": [
            "Transpose of Matrix M1 : \n",
            "tensor([[1, 6, 9],\n",
            "        [2, 8, 4],\n",
            "        [3, 4, 6]])\n",
            "\n",
            "Transpose of Matrix M2 : \n",
            "tensor([[6, 9, 7],\n",
            "        [4, 3, 2],\n",
            "        [1, 0, 8]])\n"
          ]
        }
      ]
    }
  ]
}