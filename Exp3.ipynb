{
  "nbformat": 4,
  "nbformat_minor": 0,
  "metadata": {
    "colab": {
      "name": "Exp3.ipynb",
      "provenance": [],
      "collapsed_sections": [],
      "authorship_tag": "ABX9TyOeGXq53vpvWoahJRh05GAX"
    },
    "kernelspec": {
      "name": "python3",
      "display_name": "Python 3"
    },
    "language_info": {
      "name": "python"
    }
  },
  "cells": [
    {
      "cell_type": "code",
      "execution_count": 1,
      "metadata": {
        "id": "M0hNgg8Ys7zc"
      },
      "outputs": [],
      "source": [
        "import numpy as np"
      ]
    },
    {
      "cell_type": "code",
      "source": [
        "# Sigmoid function using numpy\n",
        "def sigmoid(x):\n",
        "  s=1/(1+np.exp(-x))\n",
        "  return s\n",
        "\n",
        "# x=2\n",
        "x=np.array([5,2,7])\n",
        "print(\"Output of Sigmoid Function :\\n\",sigmoid(x))"
      ],
      "metadata": {
        "colab": {
          "base_uri": "https://localhost:8080/"
        },
        "id": "-rFOudbptlko",
        "outputId": "6bfd5a15-220a-4b2e-be29-65f25e2155ba"
      },
      "execution_count": 40,
      "outputs": [
        {
          "output_type": "stream",
          "name": "stdout",
          "text": [
            "Output of Sigmoid Function :\n",
            " [0.99330715 0.88079708 0.99908895]\n"
          ]
        }
      ]
    },
    {
      "cell_type": "code",
      "source": [
        "# implementing sigmoid_grad() function (gradient of sigmoid)\n",
        "def sigmoid_grad(x):\n",
        "  s=sigmoid(x)\n",
        "  ds=s*(1-s)\n",
        "  return ds\n",
        "\n",
        "x=np.array([5,2,7])\n",
        "print(\"Gradient of sigmoid :\\n\",sigmoid_grad(x))"
      ],
      "metadata": {
        "colab": {
          "base_uri": "https://localhost:8080/"
        },
        "id": "XQa2DVGouPyZ",
        "outputId": "68bf31ba-5088-4465-d883-4629e55bc6e1"
      },
      "execution_count": 41,
      "outputs": [
        {
          "output_type": "stream",
          "name": "stdout",
          "text": [
            "Gradient of sigmoid :\n",
            " [0.00664806 0.10499359 0.00091022]\n"
          ]
        }
      ]
    },
    {
      "cell_type": "code",
      "source": [
        "#Implementing normalizeRows() to normalize the rows of a matrix\n",
        "def normalizeRows(x):\n",
        "  normalized_x = np.linalg.norm(x,axis=1,keepdims = True);\n",
        "  x = x / normalized_x;\n",
        "  return x;\n",
        "\n",
        "x=np.array([[[2,4,6],[3,1,5],[8,4,9]]])\n",
        "print(\"Normalized form of matrix : \\n\",normalizeRows(x))"
      ],
      "metadata": {
        "colab": {
          "base_uri": "https://localhost:8080/"
        },
        "id": "3xZ3Pg06xw-4",
        "outputId": "f0538760-0d19-4b76-dc5b-f5b62ff93f00"
      },
      "execution_count": 29,
      "outputs": [
        {
          "output_type": "stream",
          "name": "stdout",
          "text": [
            "Normalized form of matrix : \n",
            " [[[0.22792115 0.69631062 0.50350881]\n",
            "  [0.34188173 0.17407766 0.41959068]\n",
            "  [0.91168461 0.69631062 0.75526322]]]\n"
          ]
        }
      ]
    },
    {
      "cell_type": "code",
      "source": [
        "# implimenting the softmax function \n",
        "def softmax(x):\n",
        "  exp_x = np.exp(x)\n",
        "  normalized_x = np.linalg.norm(exp_x,axis=1,keepdims=True)\n",
        "  output = exp_x / normalized_x\n",
        "  return output\n",
        "\n",
        "x=np.array([[[2,4,6],[3,1,5],[8,4,9]]])\n",
        "print(\"Output of softmax function :\\n\",softmax(x))"
      ],
      "metadata": {
        "colab": {
          "base_uri": "https://localhost:8080/"
        },
        "id": "ygSiGWory6eW",
        "outputId": "16e3e109-5fd4-464e-ed12-5ef2c8a15581"
      },
      "execution_count": 30,
      "outputs": [
        {
          "output_type": "stream",
          "name": "stdout",
          "text": [
            "Output of softmax function :\n",
            " [[[0.00247869 0.706669   0.04971716]\n",
            "  [0.00673777 0.03518298 0.01828992]\n",
            "  [0.99997423 0.706669   0.99859586]]]\n"
          ]
        }
      ]
    },
    {
      "cell_type": "code",
      "source": [
        "def L1_loss(y,yh):\n",
        "  loss=np.sum(np.abs(y-yh))\n",
        "  return loss\n",
        "\n",
        "y=np.array([1,1,0])\n",
        "yh=np.random.randn(1,3)\n",
        "print(yh)\n",
        "print(\"L1 Loss : \",L1_loss(y,yh))"
      ],
      "metadata": {
        "colab": {
          "base_uri": "https://localhost:8080/"
        },
        "id": "9pVpgZSm2Vl3",
        "outputId": "8c0fa799-f3f0-4670-8946-bee0d0389b50"
      },
      "execution_count": 39,
      "outputs": [
        {
          "output_type": "stream",
          "name": "stdout",
          "text": [
            "[[-0.17761308  0.83961381 -1.36834127]]\n",
            "L1 Loss :  2.706340542139333\n"
          ]
        }
      ]
    }
  ]
}